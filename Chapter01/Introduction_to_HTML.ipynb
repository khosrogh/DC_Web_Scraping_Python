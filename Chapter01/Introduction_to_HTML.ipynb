{
 "cells": [
  {
   "cell_type": "markdown",
   "id": "9dffa794-fd22-46ef-aff6-59fe3c040d90",
   "metadata": {},
   "source": [
    "# HTML"
   ]
  },
  {
   "cell_type": "markdown",
   "id": "e6483f5a-7419-44cf-9b3a-3f4ca6232668",
   "metadata": {},
   "source": [
    "### From Tree to HTML\r\n",
    "Here you are given the chance to create your own bit of HTML code (as a python string). More specifically, below is an HTML tree image and you will finish the missing code within the string html which produces this HTML tree."
   ]
  },
  {
   "cell_type": "markdown",
   "id": "854360ed-2e3d-4c05-8558-09bfba3b4e39",
   "metadata": {},
   "source": [
    "<img src=\"https://assets.datacamp.com/production/repositories/2560/datasets/7043ab2cf053a078afe4adbda88b669de2a6ab73/html_tree_exercise_resize.png\">"
   ]
  },
  {
   "cell_type": "markdown",
   "id": "1e5d2170-78e1-48d8-9780-ffa28fb94dbc",
   "metadata": {},
   "source": [
    "To note:\r\n",
    "\r\n",
    "We have started the string html for you, to help nudge you in the correct direction\n",
    "\n",
    ".\r\n",
    "The spacing we use in the portion of the string we provide (e.g., indenting <head> two spaces more than <html>) isn't necessary, but we did so just to make it easier to read."
   ]
  },
  {
   "cell_type": "markdown",
   "id": "1fc4f2b1-63ae-4426-ae91-8edbcc5bcb3f",
   "metadata": {},
   "source": [
    "Fill in the blank within the string variable html so that the HTML code matches its tree representation (including the text within the two paragraph children)."
   ]
  },
  {
   "cell_type": "code",
   "execution_count": 4,
   "id": "a87fb1ab-8fc8-4419-86f0-50db360b7db2",
   "metadata": {},
   "outputs": [],
   "source": [
    "html = '''\n",
    "<html>\n",
    "  <head>\n",
    "    <title>Intro HTML</title>\n",
    "  </head>\n",
    "  <body>\n",
    "    <p>Hello World!</p>\n",
    "    <p>Enjoy DataCamp!</p>\n",
    "  </body>\n",
    "</html>\n",
    "'''"
   ]
  },
  {
   "cell_type": "markdown",
   "id": "f8d45a99-dbaf-4a92-b698-bb616cf63e71",
   "metadata": {},
   "source": [
    "Fill in the blank in the HTML code string html to assign a class attribute to the second div element which has the value \"you-are-classy\"."
   ]
  },
  {
   "cell_type": "code",
   "execution_count": 5,
   "id": "b60e1fc4-d0cc-4792-b975-89a0ee1c7be7",
   "metadata": {},
   "outputs": [
    {
     "ename": "NameError",
     "evalue": "name 'whats_my_class' is not defined",
     "output_type": "error",
     "traceback": [
      "\u001b[1;31m---------------------------------------------------------------------------\u001b[0m",
      "\u001b[1;31mNameError\u001b[0m                                 Traceback (most recent call last)",
      "Cell \u001b[1;32mIn[5], line 15\u001b[0m\n\u001b[0;32m      2\u001b[0m html \u001b[38;5;241m=\u001b[39m \u001b[38;5;124m'''\u001b[39m\n\u001b[0;32m      3\u001b[0m \u001b[38;5;124m<html>\u001b[39m\n\u001b[0;32m      4\u001b[0m \u001b[38;5;124m  <body>\u001b[39m\n\u001b[1;32m   (...)\u001b[0m\n\u001b[0;32m     12\u001b[0m \u001b[38;5;124m</html>\u001b[39m\n\u001b[0;32m     13\u001b[0m \u001b[38;5;124m'''\u001b[39m\n\u001b[0;32m     14\u001b[0m \u001b[38;5;66;03m# Print out the class of the second div element\u001b[39;00m\n\u001b[1;32m---> 15\u001b[0m \u001b[43mwhats_my_class\u001b[49m( html )\n",
      "\u001b[1;31mNameError\u001b[0m: name 'whats_my_class' is not defined"
     ]
    }
   ],
   "source": [
    "# HTML code string\n",
    "html = '''\n",
    "<html>\n",
    "  <body>\n",
    "    <div class=\"class1\" id=\"div1\">\n",
    "      <p class=\"class2\">Visit DataCamp!</p>\n",
    "    </div>\n",
    "    <div class=\"you-are-classy\">\n",
    "      <p class=\"class2\">Keep up the good work!</p>\n",
    "    </div>\n",
    "  </body>\n",
    "</html>\n",
    "'''\n",
    "# Print out the class of the second div element\n",
    "whats_my_class( html )"
   ]
  },
  {
   "cell_type": "code",
   "execution_count": 6,
   "id": "c2433d8f-7c62-4002-a3cc-3f33d23cd181",
   "metadata": {},
   "outputs": [
    {
     "ename": "SyntaxError",
     "evalue": "invalid syntax (3352509395.py, line 1)",
     "output_type": "error",
     "traceback": [
      "\u001b[1;36m  Cell \u001b[1;32mIn[6], line 1\u001b[1;36m\u001b[0m\n\u001b[1;33m    <html>\u001b[0m\n\u001b[1;37m    ^\u001b[0m\n\u001b[1;31mSyntaxError\u001b[0m\u001b[1;31m:\u001b[0m invalid syntax\n"
     ]
    }
   ],
   "source": [
    "<html>\n",
    "  <head>\n",
    "    <title>Website Title</title>\n",
    "    <link rel=\"stylesheet\" type=\"text/css\" href=\"style.css\">\n",
    "  </head>\n",
    "  <body>\n",
    "    <div class=\"class1\" id=\"div1\">\n",
    "      <p class=\"class2\">\n",
    "        Visit <a href=\"http://datacamp.com/\">DataCamp</a>!\n",
    "      </p>\n",
    "    </div>\n",
    "    <div class=\"class1 class3\" id=\"div2\">\n",
    "      <p class=\"class2\">\n",
    "        Or search for it on <a href=\"http://www.google.com\">Google</a>!\n",
    "      </p>\n",
    "    </div>\n",
    "  </body>\n",
    "</html>"
   ]
  },
  {
   "cell_type": "markdown",
   "id": "08a66e31-4709-4332-b09b-688b6f68ff76",
   "metadata": {},
   "source": [
    "Which of the following does not correctly describe how to get to the URL, http://datacamp.com?\r\n",
    "\r\n"
   ]
  },
  {
   "cell_type": "markdown",
   "id": "5ad63ae9-07e1-4000-b4bf-7586cb23da6f",
   "metadata": {},
   "source": [
    "The URL is the only href attribute of any descendant of any div element belonging to class class1.\r\n"
   ]
  },
  {
   "cell_type": "markdown",
   "id": "367e5787-729b-4299-a4cb-5f8c1507c5b9",
   "metadata": {},
   "source": [
    "Both div elements belong to the class class1 (even though the second div element also belongs to class3), and both have an a element as a descendant (in this case, a grandchild). So, this direction points to two href attributes, the first is the desired URL, the second is http://www.google.com."
   ]
  },
  {
   "cell_type": "markdown",
   "id": "f3a13d23-6b3c-4c58-b7fc-d99581f49ced",
   "metadata": {},
   "source": [
    "### Where am I?\r\n",
    "In this exercise, you will navigate to a specific element using your new knowledge of XPath notation.\r\n",
    "\r\n",
    "Consider the HTML code:"
   ]
  },
  {
   "cell_type": "code",
   "execution_count": 7,
   "id": "cf780d2e-1798-4753-857e-091fd603f20e",
   "metadata": {},
   "outputs": [
    {
     "ename": "SyntaxError",
     "evalue": "invalid syntax (386786364.py, line 1)",
     "output_type": "error",
     "traceback": [
      "\u001b[1;36m  Cell \u001b[1;32mIn[7], line 1\u001b[1;36m\u001b[0m\n\u001b[1;33m    <html>\u001b[0m\n\u001b[1;37m    ^\u001b[0m\n\u001b[1;31mSyntaxError\u001b[0m\u001b[1;31m:\u001b[0m invalid syntax\n"
     ]
    }
   ],
   "source": [
    "<html>\n",
    "  <body>\n",
    "    <div>\n",
    "      <p>Good Luck!</p>\n",
    "      <p>Not here...</p>\n",
    "    </div>\n",
    "    <div>\n",
    "      <p>Where am I?</p>\n",
    "    </div>\n",
    "  </body>\n",
    "</html>"
   ]
  },
  {
   "cell_type": "markdown",
   "id": "f437e802-876d-41bc-9b89-fd8a7b474ccb",
   "metadata": {},
   "source": [
    "Your job will be to create an XPath string using single forward-slashes and brackets which navigates to the paragraph p element which contains the text \"Where am I?\"."
   ]
  },
  {
   "cell_type": "markdown",
   "id": "b72a94ba-99fe-4d18-a57d-1a45194c5a2a",
   "metadata": {},
   "source": [
    "Using only single forward-slashes to move between generations, and brackets to select the correct element, assign a string to the variable xpath that directs to the paragraph element containing \"Where am I?\".\n",
    "Do not include any blank spaces in the string you assign to xpath."
   ]
  },
  {
   "cell_type": "code",
   "execution_count": 8,
   "id": "7831134d-78cf-428b-ba33-dd745411c86c",
   "metadata": {},
   "outputs": [],
   "source": [
    "# Fill in the blank\n",
    "xpath = '/html/body/div[2]/p'"
   ]
  },
  {
   "cell_type": "markdown",
   "id": "5991014a-3f4a-4eb1-8e76-8458ba3ac1a1",
   "metadata": {},
   "source": [
    "### It's Time to P\n",
    "In the lecture, we learned how to use double forward-slashes to navigate to all future generations. In this exercise, you will select all paragraph p elements within the HTML. Because we want you to navigate to all paragraph elements, it is not important that you know what the HTML code is, since the task can be accomplished with a simple XPath string using the double forward-slash notation you have learned."
   ]
  },
  {
   "cell_type": "markdown",
   "id": "96193e3c-765c-4d5e-9f29-18b7c9340978",
   "metadata": {},
   "source": [
    "Using double forward-slash notation, assign to the variable xpath a simple XPath string navigating to all paragraph p elements within any HTML code."
   ]
  },
  {
   "cell_type": "code",
   "execution_count": 9,
   "id": "3c49eae7-f123-4427-808e-e78295ab5f75",
   "metadata": {},
   "outputs": [],
   "source": [
    "# Fill in the blank\n",
    "xpath = '//p'"
   ]
  },
  {
   "cell_type": "markdown",
   "id": "8f52e9b8-9798-40bd-a2db-e1f8f640e8cd",
   "metadata": {},
   "source": [
    "### A classy span\r\n",
    "Although we haven't yet gone deep into XPath, one thing we can do is select elements by their attributes using an XPath. For example, if we want to direct to the div element within the HTML document whose id attribute is \"uid\", then we could write the XPath string '//div[@id=\"uid\"]'. The first part of this string, //div, first looks at all div elements in the HTML document. Then, using the brackets, we specify that we want only the div element with a specific id attribute (in this case uid). To note, the phrase @id=\"uid\" in the brackets would be read as \"attribute id equals uid\".\r\n",
    "\r\n",
    "In this exercise, you will select all span elements whose class attribute equals \"span-class\". (Note: span is just another possible tag-name)."
   ]
  },
  {
   "cell_type": "markdown",
   "id": "607b21ba-5878-4f09-a561-5976f7edc9c8",
   "metadata": {},
   "source": [
    "Assign to the variable xpath an XPath string which will select all span elements whose class attribute equals \"span-class\". You do not need to see the actual HTML code to do this!"
   ]
  },
  {
   "cell_type": "code",
   "execution_count": 10,
   "id": "6e68430a-901c-4c8b-b435-5ff86489ef72",
   "metadata": {},
   "outputs": [],
   "source": [
    "# Fill in the blank\n",
    "xpath = '//span[@class=\"span-class\"]'"
   ]
  },
  {
   "cell_type": "code",
   "execution_count": null,
   "id": "526308c1-3710-4fa0-a589-14655729fce2",
   "metadata": {},
   "outputs": [],
   "source": []
  }
 ],
 "metadata": {
  "kernelspec": {
   "display_name": "Python 3 (ipykernel)",
   "language": "python",
   "name": "python3"
  },
  "language_info": {
   "codemirror_mode": {
    "name": "ipython",
    "version": 3
   },
   "file_extension": ".py",
   "mimetype": "text/x-python",
   "name": "python",
   "nbconvert_exporter": "python",
   "pygments_lexer": "ipython3",
   "version": "3.12.1"
  }
 },
 "nbformat": 4,
 "nbformat_minor": 5
}
