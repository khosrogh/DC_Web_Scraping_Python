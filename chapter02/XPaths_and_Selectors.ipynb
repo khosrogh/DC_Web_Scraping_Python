{
 "cells": [
  {
   "cell_type": "markdown",
   "id": "b2994d5b-8e36-4798-a76d-48fe52c21de0",
   "metadata": {},
   "source": [
    "Since \"/html/body/\\*\" selects all elements one generation below the body element without concern of the tag type, it selects all children of the body element. On the other hand, \"/html/body//\\*\" selects all elements from all future generations of the body element (that is, all descendants of the body) regardless of tag type."
   ]
  },
  {
   "cell_type": "markdown",
   "id": "bcb4bc43-3b55-4beb-af3a-a45a2bc251ca",
   "metadata": {},
   "source": [
    "### Body Appendages\r\n",
    "We have loaded the HTML from a secret website and have used it to create a function how_many_elements(). The way this function works is that you pass it an XPath string and it will print out the number of elements the XPath you wrote has selected. For example, by running the code how_many_elements('//*') in the console will print out the total number of elements the HTML document has (try it!).\r\n",
    "\r\n",
    "Your job in this exercise is to create an XPath string which can be used to direct to all child elements the body (regardless of tag type). To note, you can first test your solution with how_many_elements() to find the total number of children in the body element if you wish.\r\n",
    "\r\n",
    "Note that the exercises in this chapter may take some time to load."
   ]
  },
  {
   "cell_type": "markdown",
   "id": "cc237afd-5ad4-4f91-ace5-63a2681bd895",
   "metadata": {},
   "source": [
    "Assign to the variable xpath an XPath string which directs to all child elements of the body element. There is only one body element in this HTML document and it is a child of the root html element."
   ]
  },
  {
   "cell_type": "code",
   "execution_count": 3,
   "id": "45fdf0d3-b2e9-41d3-9454-6699323c99b6",
   "metadata": {},
   "outputs": [],
   "source": [
    "# Create an XPath string to direct to children of the body element\n",
    "xpath = '/html/body/*'"
   ]
  },
  {
   "cell_type": "markdown",
   "id": "f6d9b123-49bc-46df-b451-6d11e28eb993",
   "metadata": {},
   "source": [
    "### Choose DataCamp!\r\n",
    "In this exercise, we want to give you the opportunity to create your own XPath string to achieve a certain task; the task is to select the paragraph element containing the text \"Choose DataCamp!\".\r\n",
    "\r\n",
    "Consider the following HTML:"
   ]
  },
  {
   "cell_type": "code",
   "execution_count": 4,
   "id": "b32938b7-72ec-4297-b408-7a1fcae0c316",
   "metadata": {},
   "outputs": [
    {
     "ename": "SyntaxError",
     "evalue": "invalid syntax (2324280406.py, line 1)",
     "output_type": "error",
     "traceback": [
      "\u001b[1;36m  Cell \u001b[1;32mIn[4], line 1\u001b[1;36m\u001b[0m\n\u001b[1;33m    <html>\u001b[0m\n\u001b[1;37m    ^\u001b[0m\n\u001b[1;31mSyntaxError\u001b[0m\u001b[1;31m:\u001b[0m invalid syntax\n"
     ]
    }
   ],
   "source": [
    "<html>\n",
    "  <body>\n",
    "    <div>\n",
    "      <p>Hello World!</p>\n",
    "      <div>\n",
    "        <p>Choose DataCamp!</p>\n",
    "      </div>\n",
    "    </div>\n",
    "    <div>\n",
    "      <p>Thanks for Watching!</p>\n",
    "    </div>\n",
    "  </body>\n",
    "</html>"
   ]
  },
  {
   "cell_type": "markdown",
   "id": "6f0c32ae-c6c4-4978-8413-3d8637bcd88e",
   "metadata": {},
   "source": [
    "We have created the function print_element_text() for you, which will print the text contained in your element (if it contains any). Feel free to use this function to check if your solution is correct!"
   ]
  },
  {
   "cell_type": "markdown",
   "id": "7da29654-cc63-4644-8a00-6f7c87a03997",
   "metadata": {},
   "source": [
    "Assign to the variable xpath an XPath string to direct to the paragraph element containing the phrase: \"Choose DataCamp!\"."
   ]
  },
  {
   "cell_type": "code",
   "execution_count": 6,
   "id": "6024e181-7a4d-44a0-af99-4286fc4399f7",
   "metadata": {},
   "outputs": [],
   "source": [
    "# Create an XPath string to the desired paragraph element\n",
    "xpath = '/html/body/div[1]/div/p'"
   ]
  },
  {
   "cell_type": "markdown",
   "id": "0b098a64-b6f1-45c5-8917-6cfbbf40ad79",
   "metadata": {},
   "source": [
    "### Where it's @\r\n",
    "In this exercise, you'll begin to write an XPath string using attributes to achieve a certain task; that task is to select the paragraph element containing the text \"Thanks for Watching!\". We've already created most of the XPath string for you.\r\n",
    "\r\n",
    "Consider the following HTML:"
   ]
  },
  {
   "cell_type": "code",
   "execution_count": 7,
   "id": "38420076-2dcc-4b00-a2e5-7bb86ce11494",
   "metadata": {},
   "outputs": [
    {
     "ename": "SyntaxError",
     "evalue": "invalid syntax (1710109797.py, line 1)",
     "output_type": "error",
     "traceback": [
      "\u001b[1;36m  Cell \u001b[1;32mIn[7], line 1\u001b[1;36m\u001b[0m\n\u001b[1;33m    <html>\u001b[0m\n\u001b[1;37m    ^\u001b[0m\n\u001b[1;31mSyntaxError\u001b[0m\u001b[1;31m:\u001b[0m invalid syntax\n"
     ]
    }
   ],
   "source": [
    "<html>\n",
    "  <body>\n",
    "    <div id=\"div1\" class=\"class-1\">\n",
    "      <p class=\"class-1 class-2\">Hello World!</p>\n",
    "      <div id=\"div2\">\n",
    "        <p id=\"p2\" class=\"class-2\">Choose DataCamp!</p>\n",
    "      </div>\n",
    "    </div>\n",
    "    <div id=\"div3\" class=\"class-2\">\n",
    "      <p class=\"class-2\">Thanks for Watching!</p>\n",
    "    </div>\n",
    "  </body>\n",
    "</html>"
   ]
  },
  {
   "cell_type": "markdown",
   "id": "0bdf6432-56bd-45a9-add1-351df188a8dc",
   "metadata": {},
   "source": [
    "We have created the function print_element_text() for you, which will print any text contained in your element."
   ]
  },
  {
   "cell_type": "markdown",
   "id": "4617e586-9131-4369-ba10-2aacbb99e9f3",
   "metadata": {},
   "source": [
    "Fill in the blanks in the XPath string to select the paragraph element containing the phrase: \"Thanks for Watching!\"."
   ]
  },
  {
   "cell_type": "code",
   "execution_count": 8,
   "id": "807cdf40-7014-4681-8fdf-b9c3f162e7d9",
   "metadata": {},
   "outputs": [],
   "source": [
    "# Create an Xpath string to select desired p element\n",
    "xpath = '//*[@id=\"div3\"]/p'"
   ]
  },
  {
   "cell_type": "markdown",
   "id": "4179ff05-54ae-4a52-8629-0dcfb346ccaa",
   "metadata": {},
   "source": [
    "### Check your Class\r\n",
    "This exercise is to emphasize that when you use an XPath to select an element by its class attribute without using the contains() function, you match the class exactly. Your job is to fill in the blank below and finish the variable xpath directing to the specified element.\r\n",
    "\r\n",
    "Consider the following HTML:"
   ]
  },
  {
   "cell_type": "code",
   "execution_count": 9,
   "id": "f41c308d-eafa-4317-9e8e-d7d0d5bd5827",
   "metadata": {},
   "outputs": [
    {
     "ename": "SyntaxError",
     "evalue": "invalid syntax (1710109797.py, line 1)",
     "output_type": "error",
     "traceback": [
      "\u001b[1;36m  Cell \u001b[1;32mIn[9], line 1\u001b[1;36m\u001b[0m\n\u001b[1;33m    <html>\u001b[0m\n\u001b[1;37m    ^\u001b[0m\n\u001b[1;31mSyntaxError\u001b[0m\u001b[1;31m:\u001b[0m invalid syntax\n"
     ]
    }
   ],
   "source": [
    "<html>\n",
    "  <body>\n",
    "    <div id=\"div1\" class=\"class-1\">\n",
    "      <p class=\"class-1 class-2\">Hello World!</p>\n",
    "      <div id=\"div2\">\n",
    "        <p id=\"p2\" class=\"class-2\">Choose DataCamp!</p>\n",
    "      </div>\n",
    "    </div>\n",
    "    <div id=\"div3\" class=\"class-2\">\n",
    "      <p class=\"class-2\">Thanks for Watching!</p>\n",
    "    </div>\n",
    "  </body>\n",
    "</html>"
   ]
  },
  {
   "cell_type": "markdown",
   "id": "e9721b52-42f9-4cfb-a329-3fd8ca11dbf7",
   "metadata": {},
   "source": [
    "Fill in the blanks in the xpath below to select the paragraph element containing the phrase: \"Hello World!\"."
   ]
  },
  {
   "cell_type": "code",
   "execution_count": 10,
   "id": "12793e4f-d643-405b-98d2-8e4f014bb662",
   "metadata": {},
   "outputs": [],
   "source": [
    "# Create an XPath string to select p element by class\n",
    "xpath = '//p[@class=\"class-1 class-2\"]'"
   ]
  },
  {
   "cell_type": "markdown",
   "id": "ffb36b55-a058-492b-b765-4066925cffa4",
   "metadata": {},
   "source": [
    "### Hyper(link) Active\r\n",
    "One of the most important attributes to extract for \"web-crawling\" is the hyperlink url (href attribute) within an a tag. Here, you will extract such a hyperlink! We have created the function print_attribute to print out the data extracted from your XPath, so you can test your XPath strings in the console, if you like."
   ]
  },
  {
   "cell_type": "code",
   "execution_count": 11,
   "id": "0a6b6207-aeb6-46c9-b2dd-98466d3faa24",
   "metadata": {},
   "outputs": [
    {
     "ename": "SyntaxError",
     "evalue": "invalid syntax (1802912149.py, line 1)",
     "output_type": "error",
     "traceback": [
      "\u001b[1;36m  Cell \u001b[1;32mIn[11], line 1\u001b[1;36m\u001b[0m\n\u001b[1;33m    <html>\u001b[0m\n\u001b[1;37m    ^\u001b[0m\n\u001b[1;31mSyntaxError\u001b[0m\u001b[1;31m:\u001b[0m invalid syntax\n"
     ]
    }
   ],
   "source": [
    "<html>\n",
    "  <body>\n",
    "    <div id=\"div1\" class=\"class-1\">\n",
    "      <p class=\"class-1 class-2\">Hello World!</p>\n",
    "      <div id=\"div2\">\n",
    "        <p id=\"p2\" class=\"class-2\">Choose \n",
    "            <a href=\"http://datacamp.com\">DataCamp!</a>!\n",
    "        </p>\n",
    "      </div>\n",
    "    </div>\n",
    "    <div id=\"div3\" class=\"class-2\">\n",
    "      <p class=\"class-2\">Thanks for Watching!</p>\n",
    "    </div>\n",
    "  </body>\n",
    "</html>"
   ]
  },
  {
   "cell_type": "markdown",
   "id": "9b942a60-22e1-4cd4-b152-b129fd123968",
   "metadata": {},
   "source": [
    "Fill in the blanks to complete the variable xpath below to select the href attribute value from the DataCamp hyperlink."
   ]
  },
  {
   "cell_type": "code",
   "execution_count": 12,
   "id": "489920a9-14b4-4474-861a-43b79f10e213",
   "metadata": {},
   "outputs": [],
   "source": [
    "# Create an xpath to the href attribute\n",
    "xpath = '//p[@id=\"p2\"]/a/@href'"
   ]
  },
  {
   "cell_type": "markdown",
   "id": "bfa59132-2ad0-47e3-83c0-e4875dea819f",
   "metadata": {},
   "source": [
    "#### Secret Links\r\n",
    "We have loaded the HTML from a secret website and have used it to create the functions how_many_elements() and preview(). The function how_many_elements() allows you to pass in an XPath string and it will print out the number of elements the XPath you wrote has selected. The function preview() allows you to pass in an XPath string and it will print out the first few elements you've selected.\r\n",
    "\r\n",
    "Your job in this exercise is to create an XPath which directs to all href attribute values of the hyperlink a elements whose class attributes contain the string \"package-snippet\". If you do it correctly, you should find that you have selected 10 elements with your XPath string and that it previews links."
   ]
  },
  {
   "cell_type": "markdown",
   "id": "e6aba71f-a299-4c24-b56c-7c19216737e8",
   "metadata": {},
   "source": [
    "Fill in the blanks below to assign an XPath string to the variable xpath which directs to all href attribute values of the hyperlink a elements whose class attributes contain the string \"package-snippet\". Remember that we use the contains call within the XPath string to check if an attribute value contains a particular string."
   ]
  },
  {
   "cell_type": "code",
   "execution_count": 14,
   "id": "a15b1c3e-853a-4775-95e5-d2717c2415c2",
   "metadata": {},
   "outputs": [
    {
     "name": "stdout",
     "output_type": "stream",
     "text": [
      "You've selected 0 elements\n"
     ]
    }
   ],
   "source": [
    "# WE WANT TO USE THE SAME DATACAMP COURSE DIRECTORY PRE-SAVED HTML CODE HERE INSTEAD OF REQUESTS\n",
    "from scrapy import Selector\n",
    "import requests\n",
    "html = requests.get( 'https://pypi.org/' ).content\n",
    "\n",
    "sel = Selector( text = html )\n",
    "\n",
    "def how_many_elements( xpath ):\n",
    "  print( \"You've selected %d elements\" % len(sel.xpath( xpath )) )\n",
    "  \n",
    "def preview( xpath ):\n",
    "  els = sel.xpath( xpath ).extract()\n",
    "  n = len(els)\n",
    "  for i,el in enumerate( els[:min(4,n)]):\n",
    "    print( \"Element %d: %s\" % (i+1,el) )\n",
    "# Create an xpath to the href attributes\n",
    "xpath = '//a[contains(@class,\"package-snippet\")]/@href'\n",
    "\n",
    "# Print out how many elements are selected\n",
    "how_many_elements( xpath )\n",
    "# Preview the selected elements\n",
    "preview( xpath )"
   ]
  },
  {
   "cell_type": "markdown",
   "id": "cf044b7e-8007-473f-8ef2-074e0ec68d23",
   "metadata": {},
   "source": [
    "### XPath Chaining\r\n",
    "Selector and SelectorList objects allow for chaining when using the xpath method. What this means is that you can apply the xpath method over once you've already applied it. For example, if sel is the name of our Selector, theexamples)."
   ]
  },
  {
   "cell_type": "markdown",
   "id": "e25b0eee-0b90-486e-8a06-98bb5f67fd63",
   "metadata": {},
   "source": [
    "\n",
    "sel.xpath('/html/body/div[2]')\n",
    "\n",
    "\n",
    "is the same as\n",
    "\n",
    "sel.xpath('/html').xpath('./body/div[2]')\n",
    "\n",
    "\n",
    "or is the same as\n",
    "\n",
    "sel.xpath('/html').xpath('./body').xpath('./div[2]')\n",
    "\n",
    "\n",
    "The only catch is that you need to \"glue together\" the XPath pieces by using a period at the start of each subsequent XPath string (notice the periods we added to the XPath strings in our examples)."
   ]
  },
  {
   "cell_type": "markdown",
   "id": "7813f169-eb40-4f3f-ab0d-745411c451df",
   "metadata": {},
   "source": [
    "ll in the blank below to chain together two xpath calls which result in the same selection as\n",
    "\n",
    "\r\n",
    "sel.xpath('//div/span/p[3]')"
   ]
  },
  {
   "cell_type": "code",
   "execution_count": 15,
   "id": "3916f36e-4454-448e-b68c-77fca84d13ac",
   "metadata": {},
   "outputs": [
    {
     "data": {
      "text/plain": [
       "[]"
      ]
     },
     "execution_count": 15,
     "metadata": {},
     "output_type": "execute_result"
    }
   ],
   "source": [
    "# Chain together xpath methods to select desired p element\n",
    "sel.xpath( '//div' ).xpath( './span/p[3]' )"
   ]
  },
  {
   "cell_type": "markdown",
   "id": "99d953f1-96f2-4633-9a6e-a0098761c7cb",
   "metadata": {},
   "source": [
    "### Divvy Up This Exercise\r\n",
    "We have pre-loaded an HTML into the string variable html. In this two part problem you will use this html variable as the HTML document to set up a Selector object with, and create a SelectorList which selects all div elements; then, you will check your understanding of what happens within the SelectorList."
   ]
  },
  {
   "cell_type": "markdown",
   "id": "157be5e2-96d8-4ab1-a0d3-68d7db05c541",
   "metadata": {},
   "source": [
    "Set up the Selector object sel with the html variable passed as the text argument.\r\n",
    "\n",
    "\n",
    "Assign to the variable divs a SelectorList of all div elements within the HTML document."
   ]
  },
  {
   "cell_type": "code",
   "execution_count": 16,
   "id": "40088bcd-f9dd-4f53-ac93-0534eb6e20e2",
   "metadata": {},
   "outputs": [],
   "source": [
    "from scrapy import Selector\n",
    "\n",
    "# Create a Selector selecting html as the HTML document\n",
    "sel = Selector( text = html )\n",
    "\n",
    "# Create a SelectorList of all div elements in the HTML document\n",
    "divs = sel.xpath( '//div' )"
   ]
  },
  {
   "cell_type": "markdown",
   "id": "63720b92-d798-45ba-93ba-3b8c67090a6b",
   "metadata": {},
   "source": [
    "### Requesting a Selector\r\n",
    "We have pre-loaded the URL for a particular website in the string variable url and use the requests library to put the content from the website into the string variable html. Your task is to create a Selector object sel using the HTML source code stored in html."
   ]
  },
  {
   "cell_type": "markdown",
   "id": "a3f7a8e4-eca9-4a5a-aff1-5cc7cea8de9c",
   "metadata": {},
   "source": [
    "Fill in the two blanks below to assign to create the Selector object sel which uses the string html as the text it inputs."
   ]
  },
  {
   "cell_type": "code",
   "execution_count": 18,
   "id": "7479cef3-3d6e-47ec-a1c8-c9369708638f",
   "metadata": {},
   "outputs": [
    {
     "name": "stdout",
     "output_type": "stream",
     "text": [
      "There are 1020 elements in the HTML document.\n",
      "You have found:  1020\n"
     ]
    }
   ],
   "source": [
    "# Import a scrapy Selector\n",
    "from scrapy import Selector\n",
    "\n",
    "# Import requests\n",
    "import requests\n",
    "\n",
    "url = 'https://assets.datacamp.com/production/repositories/2560/datasets/19a0a26daa8d9db1d920b5d5607c19d6d8094b3b/all_short'\n",
    "# Create the string html containing the HTML source\n",
    "html = requests.get( url ).content\n",
    "\n",
    "# Create the Selector object sel from html\n",
    "sel = Selector( text = html )\n",
    "\n",
    "# Print out the number of elements in the HTML document\n",
    "print( \"There are 1020 elements in the HTML document.\")\n",
    "print( \"You have found: \", len( sel.xpath('//*') ) )"
   ]
  },
  {
   "cell_type": "code",
   "execution_count": null,
   "id": "777b15fe-8f9e-4cf5-af5a-8ae2512670e8",
   "metadata": {},
   "outputs": [],
   "source": []
  }
 ],
 "metadata": {
  "kernelspec": {
   "display_name": "Python 3 (ipykernel)",
   "language": "python",
   "name": "python3"
  },
  "language_info": {
   "codemirror_mode": {
    "name": "ipython",
    "version": 3
   },
   "file_extension": ".py",
   "mimetype": "text/x-python",
   "name": "python",
   "nbconvert_exporter": "python",
   "pygments_lexer": "ipython3",
   "version": "3.12.1"
  }
 },
 "nbformat": 4,
 "nbformat_minor": 5
}
